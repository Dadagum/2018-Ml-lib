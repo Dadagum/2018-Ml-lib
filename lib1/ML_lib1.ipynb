{
 "cells": [
  {
   "cell_type": "code",
   "execution_count": 1,
   "metadata": {
    "collapsed": true
   },
   "outputs": [],
   "source": [
    "import numpy as np\n",
    "import math\n",
    "from sklearn.datasets import load_svmlight_file\n",
    "from sklearn.model_selection import train_test_split\n",
    "from scipy.sparse import linalg\n",
    "from matplotlib import pyplot as plt\n"
   ]
  },
  {
   "cell_type": "code",
   "execution_count": 2,
   "metadata": {},
   "outputs": [
    {
     "name": "stdout",
     "output_type": "stream",
     "text": [
      "(506, 13) (506,)\n",
      "  (0, 0)\t-1.0\n",
      "  (0, 1)\t-0.64\n",
      "  (0, 2)\t-0.86437\n",
      "  (0, 3)\t-1.0\n",
      "  (0, 4)\t-0.37037\n",
      "  (0, 5)\t0.155011\n",
      "  (0, 6)\t0.283213\n",
      "  (0, 7)\t-0.461594\n",
      "  (0, 8)\t-1.0\n",
      "  (0, 9)\t-0.583969\n",
      "  (0, 10)\t-0.425532\n",
      "  (0, 11)\t1.0\n",
      "  (0, 12)\t-0.82064\n"
     ]
    }
   ],
   "source": [
    "fileName = \"D:/testing/file/housing_scale.txt\";\n",
    "\n",
    "\n",
    "# 读取houses数据\n",
    "# 返回 x : scipy.sparse matrix of shape (n_samples, n_features)\n",
    "# 返回 y :  ndarray of shape (n_samples,), or, in the multilabel a list of\n",
    "def load_dataset(file):\n",
    "    data = load_svmlight_file(file)\n",
    "    return data[0], data[1]\n",
    "\n",
    "\n",
    "X, y = load_dataset(fileName)\n",
    "print(X.shape, y.shape)\n",
    "print(X[0])"
   ]
  },
  {
   "cell_type": "code",
   "execution_count": 3,
   "metadata": {},
   "outputs": [
    {
     "name": "stdout",
     "output_type": "stream",
     "text": [
      "(339, 13) (167, 13) (339,) (167,)\n",
      "<class 'scipy.sparse.csr.csr_matrix'>\n"
     ]
    }
   ],
   "source": [
    "# 切分为训练集和验证集\n",
    "X_train, X_test, y_train, y_test = train_test_split(X, y, test_size=0.33, random_state=42)\n",
    "print(X_train.shape, X_test.shape, y_train.shape, y_test.shape)\n",
    "print(type(X_train))"
   ]
  },
  {
   "cell_type": "code",
   "execution_count": 4,
   "metadata": {},
   "outputs": [
    {
     "name": "stdout",
     "output_type": "stream",
     "text": [
      "622.057685071\n"
     ]
    }
   ],
   "source": [
    "\n",
    "\n",
    "# 线性模型参数初始化，使用高斯分布随机值\n",
    "# n : 特征个数\n",
    "def random_param(n):\n",
    "    return np.random.normal(size=(n))\n",
    "\n",
    "\n",
    "# h ：预测值，数组\n",
    "# y ：实际值，数组\n",
    "def get_loss_val(h, y):\n",
    "    losses = delta_square(h, y)\n",
    "    sum = 0.0\n",
    "    for i in losses:\n",
    "        sum += i\n",
    "    sum = sum / y.shape\n",
    "    return sum[0]\n",
    "    \n",
    "\n",
    "# loss函数的分子\n",
    "def delta_square(h, y):\n",
    "    return (h-y)**2\n",
    "    \n",
    "\n",
    "params = random_param(13)\n",
    "# 计算每一个训练集的 h(x)\n",
    "hs = X_train.dot(params)\n",
    "# print(hs.shape)\n",
    "# print(y_train.shape)\n",
    "loss = get_loss_val(hs, y_train)\n",
    "print(loss)"
   ]
  },
  {
   "cell_type": "code",
   "execution_count": 5,
   "metadata": {},
   "outputs": [
    {
     "name": "stdout",
     "output_type": "stream",
     "text": [
      "[-13.94485209   1.60154521   0.22352048   0.89823444  -5.28034324\n",
      "   9.67060562  -0.24676608  -9.91063855   3.67196651  -1.55648156\n",
      "  -4.56222426   2.79377971 -10.28974287]\n",
      "24.5602952837\n",
      "25.2111592891\n"
     ]
    }
   ],
   "source": [
    "\n",
    "\n",
    "# x : 训练集\n",
    "# y ：实际值\n",
    "# linalg函数：矩阵的逆\n",
    "# T 直接进行矩阵转置\n",
    "def normal_equation(x, y):\n",
    "     return linalg.inv(x.T.dot(x)).dot(x.T).dot(y)\n",
    "    \n",
    "# 使用闭式解直接计算出合理的参数\n",
    "w = normal_equation(X_train, y_train)\n",
    "print(w)\n",
    "\n",
    "# 在训练集上计算并打印loss_train \n",
    "train_hs = X_train.dot(w)\n",
    "loss_train = get_loss_val(train_hs, y_train)\n",
    "print(loss_train)\n",
    "\n",
    "# 在测试集上计算并打印lose_val\n",
    "test_hs = X_test.dot(w)\n",
    "loss_val = get_loss_val(test_hs, y_test)\n",
    "print(loss_val)"
   ]
  },
  {
   "cell_type": "code",
   "execution_count": 6,
   "metadata": {
    "collapsed": true,
    "scrolled": true
   },
   "outputs": [],
   "source": [
    "\n",
    "\n",
    "# 随机梯度下降\n",
    "# m : 数据集个数\n",
    "# n : 特征个数\n",
    "# Repeat {\n",
    "#   for i = 0, ..., m-1 {\n",
    "#      wj := wj - a (h(x^(i)) - y^(i)) xj^(i) \n",
    "#        for every j = 1, ..., n\n",
    "#   }\n",
    "# }\n",
    "# scipy.sparse.csr.csr_matrix\n",
    "# w     : 初始参数数组\n",
    "# X     : 训练特征集\n",
    "# y     : 实际值数组\n",
    "# lr    : 学习率learning rate\n",
    "# count : 迭代次数，由于数据集有些小，故增加外层迭代次数\n",
    "def SDG(w, X, y, lr, count):\n",
    "    loss_train = []\n",
    "    loss_test = []\n",
    "    figure_x = []\n",
    "    # print(w)\n",
    "    for count in range(count):\n",
    "        base = count * X.shape[0]\n",
    "        for i in range(X.shape[0]):\n",
    "            val = y[i]\n",
    "            f_set = X[i]\n",
    "            h = f_set.dot(w)\n",
    "            delta = h[0] - val\n",
    "            w -= lr*delta*f_set\n",
    "            w = np.squeeze(w.A)\n",
    "            \n",
    "            loss_train.append(get_loss_val(X_train.dot(w), y_train))\n",
    "            loss_test.append(get_loss_val(X_test.dot(w), y_test))\n",
    "            figure_x.append(base+i)\n",
    "    # print(w)\n",
    "    return figure_x, loss_train, loss_test\n",
    "    \n",
    "\n",
    "lr = 5e-4\n",
    "count = 10\n",
    "figure_x, loss_train, loss_test = SDG(params, X_train, y_train, lr, count)"
   ]
  },
  {
   "cell_type": "code",
   "execution_count": 7,
   "metadata": {},
   "outputs": [
    {
     "data": {
      "image/png": "[encoded data removed]",
      "text/plain": [
       "<matplotlib.figure.Figure at 0x15bcaf75940>"
      ]
     },
     "metadata": {},
     "output_type": "display_data"
    }
   ],
   "source": [
    "plt.figure(figsize=[10,5])\n",
    "plt.title('result')\n",
    "plt.plot(figure_x, loss_train, c='g', label='train')\n",
    "plt.plot(figure_x, loss_test, c='r', label='test')\n",
    "plt.xlabel('iteration')\n",
    "plt.ylabel('loss value')\n",
    "plt.legend()\n",
    "plt.show()"
   ]
  },
  {
   "cell_type": "code",
   "execution_count": null,
   "metadata": {
    "collapsed": true
   },
   "outputs": [],
   "source": []
  }
 ],
 "metadata": {
  "kernelspec": {
   "display_name": "Python 3",
   "language": "python",
   "name": "python3"
  },
  "language_info": {
   "codemirror_mode": {
    "name": "ipython",
    "version": 3
   },
   "file_extension": ".py",
   "mimetype": "text/x-python",
   "name": "python",
   "nbconvert_exporter": "python",
   "pygments_lexer": "ipython3",
   "version": "3.6.3"
  }
 },
 "nbformat": 4,
 "nbformat_minor": 2
}
